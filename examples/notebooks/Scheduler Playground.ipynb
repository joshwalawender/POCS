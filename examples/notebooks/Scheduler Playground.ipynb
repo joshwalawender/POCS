{
 "cells": [
  {
   "cell_type": "code",
   "execution_count": 1,
   "metadata": {
    "collapsed": false
   },
   "outputs": [],
   "source": [
    "%load_ext autoreload\n",
    "%autoreload 2"
   ]
  },
  {
   "cell_type": "code",
   "execution_count": 2,
   "metadata": {
    "collapsed": false
   },
   "outputs": [],
   "source": [
    "from astropy import units as u\n",
    "from astropy.coordinates import EarthLocation, SkyCoord\n",
    "from astropy.time import Time\n",
    "\n",
    "from astroplan.plots import plot_airmass, plot_sky, plot_sky_24hr, plot_finder_image\n",
    "from matplotlib import pyplot as plt\n",
    "%matplotlib inline\n",
    "\n",
    "from astroplan import Observer\n",
    "\n",
    "from pocs.scheduler.dispatch import Scheduler\n",
    "from pocs.scheduler.constraint import Duration, MoonAvoidance\n",
    "from pocs.utils.config import load_config\n",
    "from pocs.utils import listify\n",
    "\n",
    "config = load_config()"
   ]
  },
  {
   "cell_type": "code",
   "execution_count": 3,
   "metadata": {
    "collapsed": false
   },
   "outputs": [],
   "source": [
    "# Get a location\n",
    "loc = config['location']\n",
    "location = EarthLocation(lon=loc['longitude'], lat=loc['latitude'], height=loc['elevation'])\n",
    "\n",
    "# Get an observer at the location\n",
    "observer = Observer(location=location)\n",
    "\n",
    "# Get the night hours (you can use observer.tonight())\n",
    "times = observer.tonight(horizon=-18 * u.degree)\n",
    "start_of_night = times[0]\n",
    "end_of_night = times[1]\n",
    "# start_of_night = Time('2016-08-13 10:00:00')\n",
    "# end_of_night = Time('2016-08-13 16:00:00')"
   ]
  },
  {
   "cell_type": "code",
   "execution_count": 4,
   "metadata": {
    "collapsed": false
   },
   "outputs": [
    {
     "name": "stdout",
     "output_type": "stream",
     "text": [
      "{'name': 'Kepler 1100', 'priority': 125, 'position': '19h27m29.10s +44d05m15.00s'}\n",
      "{'name': 'KIC 8462852', 'priority': 100, 'position': '20h06m15.4536s +44d27m24.75s'}\n",
      "{'name': 'HD 189733', 'priority': 100, 'position': '20h00m43.7135s +22d42m39.0645s'}\n",
      "{'name': 'HD 209458', 'priority': 100, 'position': '22h03m10.7721s +18d53m03.543s'}\n",
      "{'name': 'Wasp 33', 'priority': 100, 'position': '02h26m51.0582s +37d33m01.733s'}\n",
      "{'name': 'Tres 3', 'priority': 100, 'position': '17h52m07.02s +37d32m46.2012s'}\n",
      "{'name': 'M42', 'priority': 75, 'position': '05h35m17.2992s -05d23m27.996s', 'exp_time': 240}\n",
      "{'name': 'M44', 'priority': 50, 'position': '08h40m24s +19d40m00.12s'}\n",
      "{'name': 'M5', 'priority': 50, 'position': '15h18m33.2201s +02d04m51.7008s'}\n"
     ]
    }
   ],
   "source": [
    "simple_fields_file = config['directories']['targets'] + '/simple.yaml'\n",
    "\n",
    "# Simple constraint to maximize duration above a certain altitude\n",
    "constraints = [MoonAvoidance(), Duration(30 * u.deg)]\n",
    "\n",
    "# Create a scheduler\n",
    "scheduler = Scheduler(observer, fields_file=simple_fields_file, constraints=constraints)"
   ]
  },
  {
   "cell_type": "code",
   "execution_count": 24,
   "metadata": {
    "collapsed": false
   },
   "outputs": [
    {
     "name": "stdout",
     "output_type": "stream",
     "text": [
      "M42: 240.0 s exposures in blocks of 10, minimum 60, priority 75\n",
      "Tres 3: 120.0 s exposures in blocks of 10, minimum 60, priority 100\n",
      "HD 209458: 120.0 s exposures in blocks of 10, minimum 60, priority 100\n",
      "M44: 120.0 s exposures in blocks of 10, minimum 60, priority 50\n",
      "M5: 120.0 s exposures in blocks of 10, minimum 60, priority 50\n",
      "KIC 8462852: 120.0 s exposures in blocks of 10, minimum 60, priority 100\n",
      "Wasp 33: 120.0 s exposures in blocks of 10, minimum 60, priority 100\n",
      "Kepler 1100: 120.0 s exposures in blocks of 10, minimum 60, priority 125\n",
      "HD 189733: 120.0 s exposures in blocks of 10, minimum 60, priority 100\n"
     ]
    }
   ],
   "source": [
    "for obs in scheduler.observations.values():\n",
    "    print(obs)"
   ]
  },
  {
   "cell_type": "code",
   "execution_count": 25,
   "metadata": {
    "collapsed": false
   },
   "outputs": [
    {
     "name": "stderr",
     "output_type": "stream",
     "text": [
      "2016-08-25 16:29:00 ganymede panoptes[21834] INFO Setting new observation to HD 209458: 120.0 s exposures in blocks of 10, minimum 60, priority 100\n"
     ]
    },
    {
     "name": "stdout",
     "output_type": "stream",
     "text": [
      "Field: HD 209458    Merit: 102.43549231394323\n",
      "Field: Tres 3       Merit: 102.15081096831756\n"
     ]
    }
   ],
   "source": [
    "# Get the best observations for the given time\n",
    "# show_all returns entire list along with merit\n",
    "best = scheduler.get_observation(time=start_of_night, show_all=True)\n",
    "\n",
    "for b in listify(best):\n",
    "    print(\"Field: {:12s} Merit: {}\".format(b[0], b[1]))"
   ]
  },
  {
   "cell_type": "code",
   "execution_count": 26,
   "metadata": {
    "collapsed": false
   },
   "outputs": [
    {
     "data": {
      "text/plain": [
       "'J2000'"
      ]
     },
     "execution_count": 26,
     "metadata": {},
     "output_type": "execute_result"
    }
   ],
   "source": [
    "scheduler.current_observation.field.coord.equinox"
   ]
  },
  {
   "cell_type": "code",
   "execution_count": 17,
   "metadata": {
    "collapsed": false
   },
   "outputs": [
    {
     "data": {
      "image/png": "[encoded data removed]",
      "text/plain": [
       "<matplotlib.figure.Figure at 0x7efe4169b6a0>"
      ]
     },
     "metadata": {},
     "output_type": "display_data"
    }
   ],
   "source": [
    "plot_airmass([scheduler.observations[name].field for name, merit in best], \n",
    "             scheduler.observer, start_of_night, \n",
    "             brightness_shading=True)\n",
    "        \n",
    "plt.axvline(start_of_night.plot_date, lw=2, ls='--', c='k')    \n",
    "plt.legend(loc=2)\n",
    "plt.show()"
   ]
  },
  {
   "cell_type": "code",
   "execution_count": 18,
   "metadata": {
    "collapsed": false
   },
   "outputs": [
    {
     "data": {
      "image/png": "[encoded data removed]",
      "text/plain": [
       "<matplotlib.figure.Figure at 0x7efe405159e8>"
      ]
     },
     "metadata": {},
     "output_type": "display_data"
    }
   ],
   "source": [
    "plot_sky_24hr(scheduler.current_observation.field, scheduler.observer, start_of_night)\n",
    "plt.show()"
   ]
  },
  {
   "cell_type": "code",
   "execution_count": 19,
   "metadata": {
    "collapsed": false
   },
   "outputs": [
    {
     "name": "stderr",
     "output_type": "stream",
     "text": [
      "2016-08-23 16:48:27 ganymede panoptes[11580] INFO Setting new observation to HD 209458: 120.0 s exposures in blocks of 10, minimum 60, priority 100\n"
     ]
    },
    {
     "name": "stdout",
     "output_type": "stream",
     "text": [
      "Field: HD 209458    Merit: 102.27218075907814\n",
      "Field: Wasp 33      Merit: 102.15340312610776\n"
     ]
    }
   ],
   "source": [
    "# Set a later time to start\n",
    "t2 = end_of_night - 3 * u.hour\n",
    "\n",
    "# Get the best observation for the given time\n",
    "# show_all returns entire list along with merit\n",
    "best = scheduler.get_observation(show_all=True, time=t2)\n",
    "\n",
    "for b in best:\n",
    "    print(\"Field: {:12s} Merit: {}\".format(b[0], b[1]))"
   ]
  },
  {
   "cell_type": "code",
   "execution_count": 20,
   "metadata": {
    "collapsed": false
   },
   "outputs": [
    {
     "data": {
      "image/png": "[encoded data removed]",
      "text/plain": [
       "<matplotlib.figure.Figure at 0x7efe3b7c17f0>"
      ]
     },
     "metadata": {},
     "output_type": "display_data"
    }
   ],
   "source": [
    "plot_airmass([scheduler.observations[name].field for name, merit in best], \n",
    "             scheduler.observer, t2, \n",
    "             brightness_shading=True)\n",
    "plt.axvline(t2.plot_date, lw=2, ls='--', c='k')\n",
    "plt.legend(loc=2)\n",
    "plt.show()"
   ]
  },
  {
   "cell_type": "markdown",
   "metadata": {},
   "source": [
    "## Entire Night Simulation\n",
    "\n",
    "Now let's simulate going through the whole evening"
   ]
  },
  {
   "cell_type": "code",
   "execution_count": 21,
   "metadata": {
    "collapsed": false,
    "scrolled": false
   },
   "outputs": [
    {
     "name": "stdout",
     "output_type": "stream",
     "text": [
      "Start of night at 2016-08-23 06:47:09.242415\n",
      "Getting new observation at 2016-08-23 06:47:09.242415\n"
     ]
    },
    {
     "name": "stderr",
     "output_type": "stream",
     "text": [
      "2016-08-23 16:48:42 ganymede panoptes[11580] INFO Setting new observation to HD 209458: 120.0 s exposures in blocks of 10, minimum 60, priority 100\n"
     ]
    },
    {
     "name": "stdout",
     "output_type": "stream",
     "text": [
      "\tWill observe HD 209458 with merit of 102.31674 for 7200.0 s\n",
      "\t60 of 60\n",
      "Getting new observation at 2016-08-23 08:47:09.242415\n"
     ]
    },
    {
     "name": "stderr",
     "output_type": "stream",
     "text": [
      "2016-08-23 16:48:49 ganymede panoptes[11580] INFO Setting new observation to Kepler 1100: 120.0 s exposures in blocks of 10, minimum 60, priority 125\n"
     ]
    },
    {
     "name": "stdout",
     "output_type": "stream",
     "text": [
      "\tWill observe Kepler 1100 with merit of 127.07731 for 7200.0 s\n",
      "\t60 of 60\n",
      "Getting new observation at 2016-08-23 10:47:09.242415\n"
     ]
    },
    {
     "name": "stderr",
     "output_type": "stream",
     "text": [
      "2016-08-23 16:48:55 ganymede panoptes[11580] INFO Setting new observation to HD 209458: 120.0 s exposures in blocks of 10, minimum 60, priority 100\n"
     ]
    },
    {
     "name": "stdout",
     "output_type": "stream",
     "text": [
      "\tWill observe HD 209458 with merit of 102.29368 for 7200.0 s\n",
      "\t60 of 60\n",
      "Getting new observation at 2016-08-23 12:47:09.242415\n",
      "\tWill observe HD 209458 with merit of 102.29368 for 1200.0 s\n",
      "\t70 of 60\n",
      "Getting new observation at 2016-08-23 13:07:09.242415\n",
      "\tWill observe HD 209458 with merit of 102.29368 for 1200.0 s\n",
      "\t80 of 60\n",
      "Getting new observation at 2016-08-23 13:27:09.242415\n",
      "\tWill observe HD 209458 with merit of 102.29368 for 1200.0 s\n",
      "\t90 of 60\n",
      "Getting new observation at 2016-08-23 13:47:09.242415\n",
      "\tWill observe HD 209458 with merit of 102.29368 for 1200.0 s\n",
      "\t100 of 60\n",
      "Getting new observation at 2016-08-23 14:07:09.242415\n",
      "\tWill observe HD 209458 with merit of 102.29368 for 1200.0 s\n",
      "\t110 of 60\n",
      "Getting new observation at 2016-08-23 14:27:09.242415\n"
     ]
    },
    {
     "name": "stderr",
     "output_type": "stream",
     "text": [
      "2016-08-23 16:49:22 ganymede panoptes[11580] WARNING No valid observations found\n",
      "2016-08-23 16:49:22 ganymede panoptes[11580] INFO Setting new observation to None\n"
     ]
    },
    {
     "name": "stdout",
     "output_type": "stream",
     "text": [
      "Getting new observation at 2016-08-23 14:47:09.242415\n",
      "End of night at 2016-08-23T14:49:24.466\n"
     ]
    }
   ],
   "source": [
    "# Start at the beginning of the night\n",
    "next_time = start_of_night\n",
    "print(\"Start of night at {}\".format(start_of_night))\n",
    "\n",
    "# Reset scheduler\n",
    "# Create a scheduler\n",
    "scheduler = Scheduler(simple_fields_file, observer, constraints=constraints)\n",
    "\n",
    "while (next_time < end_of_night):    \n",
    "    # Only get new target if we have met min_nexp for observation\n",
    "    if (scheduler.current_observation is None) or \\\n",
    "        (scheduler.current_observation.current_exp >= scheduler.current_observation.min_nexp):\n",
    "        \n",
    "        print(\"Getting new observation at {}\".format(next_time))\n",
    "        new_obs = scheduler.get_observation(time=next_time)\n",
    "        \n",
    "    if scheduler.current_observation is not None:\n",
    "\n",
    "        if (scheduler.current_observation.current_exp < scheduler.current_observation.min_nexp):\n",
    "            obs_duration = scheduler.current_observation.minimum_duration\n",
    "\n",
    "            # Fake the exposure count\n",
    "            scheduler.current_observation.current_exp = scheduler.current_observation.min_nexp\n",
    "        else:\n",
    "            obs_duration = scheduler.current_observation.set_duration\n",
    "            # Fake the exposure count\n",
    "            scheduler.current_observation.current_exp += scheduler.current_observation.exp_set_size\n",
    "\n",
    "        print(\"\\tWill observe {} with merit of {:0.5f} for {}\".format(\n",
    "                    scheduler.current_observation.name, \n",
    "                    scheduler.current_observation.merit, \n",
    "                    obs_duration))\n",
    "        print(\"\\t{} of {}\".format(scheduler.current_observation.current_exp, \n",
    "                                  scheduler.current_observation.min_nexp))\n",
    "                \n",
    "    next_time = next_time + obs_duration\n",
    "    \n",
    "print(\"End of night at {}\".format(end_of_night.isot))"
   ]
  },
  {
   "cell_type": "code",
   "execution_count": 15,
   "metadata": {
    "collapsed": false
   },
   "outputs": [
    {
     "name": "stderr",
     "output_type": "stream",
     "text": [
      "2016-08-30 16:55:22 ganymede panoptes[2303] INFO Setting new observation to Wasp 33: 120.0 s exposures in blocks of 10, minimum 60, priority 100\n"
     ]
    },
    {
     "name": "stdout",
     "output_type": "stream",
     "text": [
      "Wasp 33: 120.0 s exposures in blocks of 10, minimum 60, priority 100\n",
      "Wasp 33: 120.0 s exposures in blocks of 10, minimum 60, priority 100\n"
     ]
    },
    {
     "name": "stderr",
     "output_type": "stream",
     "text": [
      "2016-08-30 16:55:30 ganymede panoptes[2303] WARNING No valid observations found\n",
      "2016-08-30 16:55:30 ganymede panoptes[2303] INFO Setting new observation to None\n"
     ]
    },
    {
     "name": "stdout",
     "output_type": "stream",
     "text": [
      "None\n"
     ]
    }
   ],
   "source": [
    "time = Time('2016-08-13 11:00:00')\n",
    "scheduler.get_observation(time=time)\n",
    "print(scheduler.current_observation)\n",
    "\n",
    "time = Time('2016-08-13 13:00:00')\n",
    "scheduler.get_observation(time=time)\n",
    "print(scheduler.current_observation)\n",
    "\n",
    "time = Time('2016-08-13 14:30:00')\n",
    "scheduler.get_observation(time=time)\n",
    "print(scheduler.current_observation)"
   ]
  },
  {
   "cell_type": "code",
   "execution_count": 10,
   "metadata": {
    "collapsed": false
   },
   "outputs": [
    {
     "data": {
      "text/plain": [
       "<pocs.scheduler.observation.Observation at 0x7f35d9fe6c18>"
      ]
     },
     "execution_count": 10,
     "metadata": {},
     "output_type": "execute_result"
    }
   ],
   "source": [
    "scheduler.current_observation "
   ]
  }
 ],
 "metadata": {
  "anaconda-cloud": {},
  "kernelspec": {
   "display_name": "Python [Root]",
   "language": "python",
   "name": "Python [Root]"
  },
  "language_info": {
   "codemirror_mode": {
    "name": "ipython",
    "version": 3
   },
   "file_extension": ".py",
   "mimetype": "text/x-python",
   "name": "python",
   "nbconvert_exporter": "python",
   "pygments_lexer": "ipython3",
   "version": "3.5.2"
  }
 },
 "nbformat": 4,
 "nbformat_minor": 0
}
